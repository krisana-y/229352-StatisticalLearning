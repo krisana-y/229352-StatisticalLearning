{
  "cells": [
    {
      "cell_type": "markdown",
      "metadata": {
        "id": "view-in-github",
        "colab_type": "text"
      },
      "source": [
        "<a href=\"https://colab.research.google.com/github/krisana-y/229352-StatisticalLearning/blob/main/650510483_kNN_using_Grid_Search.ipynb\" target=\"_parent\"><img src=\"https://colab.research.google.com/assets/colab-badge.svg\" alt=\"Open In Colab\"/></a>"
      ]
    },
    {
      "cell_type": "markdown",
      "metadata": {
        "id": "_50o8bV-nMaF"
      },
      "source": [
        "### Statistical Learning for Data Science 2 (229352)\n",
        "#### Instructor: Donlapark Ponnoprat\n",
        "\n",
        "#### [Course website](https://donlapark.pages.dev/229352/)\n",
        "\n",
        "## Lab #3"
      ]
    },
    {
      "cell_type": "code",
      "execution_count": null,
      "metadata": {
        "id": "tShvCHLSAsu6"
      },
      "outputs": [],
      "source": [
        "from sklearn.datasets import fetch_20newsgroups\n",
        "\n",
        "train = fetch_20newsgroups(subset='train')\n",
        "test = fetch_20newsgroups(subset='test')\n",
        "\n",
        "Xtrain = train.data[:3000]\n",
        "ytrain = train.target[:3000]\n",
        "Xtest = test.data[:500]\n",
        "ytest = test.target[:500]\n",
        "\n",
        "print(\"X:\", len(Xtest))\n",
        "print(\"y:\", len(ytest))"
      ]
    },
    {
      "cell_type": "code",
      "execution_count": null,
      "metadata": {
        "id": "DunmeISuAxVp"
      },
      "outputs": [],
      "source": [
        "print(\"X[0]:\", Xtrain[0])\n",
        "print(\"y[0]:\", ytrain[0])"
      ]
    },
    {
      "cell_type": "code",
      "execution_count": null,
      "metadata": {
        "id": "OJF0Yf8kA4ZM"
      },
      "outputs": [],
      "source": [
        "train.target_names"
      ]
    },
    {
      "cell_type": "markdown",
      "metadata": {
        "id": "TKIW_iS8A8KO"
      },
      "source": [
        "### Apply Tfidf ([documentation](https://scikit-learn.org/stable/modules/generated/sklearn.feature_extraction.text.TfidfVectorizer.html))"
      ]
    },
    {
      "cell_type": "code",
      "execution_count": null,
      "metadata": {
        "id": "kkrbh0AtA8g5"
      },
      "outputs": [],
      "source": [
        "from sklearn.feature_extraction.text import TfidfVectorizer\n",
        "\n",
        "# define transformation\n",
        "tfidf = TfidfVectorizer(stop_words='english')\n",
        "\n",
        "# fit+transform training set\n",
        "Xtrain_tfidf = tfidf.fit_transform(Xtrain)\n",
        "\n",
        "# See output\n",
        "Xtrain_tfidf"
      ]
    },
    {
      "cell_type": "code",
      "execution_count": null,
      "metadata": {
        "id": "tGt73o2UA_Xg"
      },
      "outputs": [],
      "source": [
        "tfidf.vocabulary_"
      ]
    },
    {
      "cell_type": "markdown",
      "metadata": {
        "id": "6mrq5TzLxvo0"
      },
      "source": [
        "#### Exercise 1: Find post in the training set that is closest in tf-idf to the first post in the test set (`Xtest[0]`). Print the content of both posts (not the tf-idf vectors)."
      ]
    },
    {
      "cell_type": "code",
      "source": [
        "from sklearn.feature_extraction.text import TfidfVectorizer\n",
        "from sklearn.metrics.pairwise import cosine_similarity\n",
        "import numpy as np\n",
        "\n",
        "vectorizer = TfidfVectorizer(stop_words='english')\n",
        "Xtrain_tfidf = vectorizer.fit_transform(Xtrain)\n",
        "Xtest0_tfidf = vectorizer.transform([Xtest[0]])\n",
        "\n",
        "similarities = cosine_similarity(Xtest0_tfidf, Xtrain_tfidf)\n",
        "\n",
        "most_similar_index = np.argmax(similarities)\n",
        "\n",
        "print(Xtest[0])\n",
        "print(Xtrain[most_similar_index])"
      ],
      "metadata": {
        "id": "WwpYY2LIEfqj"
      },
      "execution_count": null,
      "outputs": []
    },
    {
      "cell_type": "markdown",
      "metadata": {
        "id": "8pPpNJ89A_pu"
      },
      "source": [
        "### Classify with k-Nearest Neighbor (kNN) ([documentation](https://scikit-learn.org/stable/modules/generated/sklearn.neighbors.KNeighborsClassifier.html))"
      ]
    },
    {
      "cell_type": "code",
      "execution_count": null,
      "metadata": {
        "id": "7m7rhMAcBCOO"
      },
      "outputs": [],
      "source": [
        "from sklearn.neighbors import KNeighborsClassifier\n",
        "\n",
        "# Define model\n",
        "nb = KNeighborsClassifier(n_neighbors=5)\n",
        "\n",
        "# Fit the model\n",
        "nb.fit(Xtrain_tfidf, ytrain)"
      ]
    },
    {
      "cell_type": "markdown",
      "metadata": {
        "id": "UKj8LWkYBFkY"
      },
      "source": [
        "Evaluate on the test set using [`classification_report`](https://scikit-learn.org/stable/modules/generated/sklearn.metrics.classification_report.html)\n",
        "\n",
        "We will focus on the [F1-score](https://scikit-learn.org/stable/modules/generated/sklearn.metrics.f1_score.html)"
      ]
    },
    {
      "cell_type": "code",
      "execution_count": null,
      "metadata": {
        "id": "YfweGKT7Vkc0"
      },
      "outputs": [],
      "source": [
        "from sklearn.metrics import classification_report\n",
        "\n",
        "# Transform the test set\n",
        "Xtest_tfidf = tfidf.transform(Xtest)\n",
        "\n",
        "# Make predictions on the test set\n",
        "ypred = nb.predict(Xtest_tfidf)\n",
        "\n",
        "#report classification scores\n",
        "print(classification_report(ytest, ypred))"
      ]
    },
    {
      "cell_type": "markdown",
      "metadata": {
        "id": "ZNQlI-b7BJyb"
      },
      "source": [
        "### Combine all methods into a [pipeline](https://scikit-learn.org/stable/modules/generated/sklearn.pipeline.Pipeline.html)"
      ]
    },
    {
      "cell_type": "code",
      "execution_count": null,
      "metadata": {
        "id": "6dHo0-mIBK0u"
      },
      "outputs": [],
      "source": [
        "from sklearn.pipeline import Pipeline\n",
        "\n",
        "pipeline = Pipeline([('tfidf', TfidfVectorizer(stop_words='english')),\n",
        "                     ('nb', KNeighborsClassifier(n_neighbors=5))])\n",
        "\n",
        "# Fit the pipeline to the training set\n",
        "pipeline.fit(Xtrain, ytrain)\n",
        "\n",
        "# Make predictions on the test set\n",
        "ypred = pipeline.predict(Xtest)\n",
        "\n",
        "# report classification scores\n",
        "print(classification_report(ytest, ypred))"
      ]
    },
    {
      "cell_type": "markdown",
      "metadata": {
        "id": "uHEZHkyaBNU6"
      },
      "source": [
        "Now we will use [grid search cross-validation](https://scikit-learn.org/stable/modules/generated/sklearn.model_selection.GridSearchCV.html) to find model with the best hyperparameters"
      ]
    },
    {
      "cell_type": "markdown",
      "metadata": {
        "id": "tmE7nqYPEy-G"
      },
      "source": [
        "![5CV](https://scikit-learn.org/stable/_images/grid_search_cross_validation.png)"
      ]
    },
    {
      "cell_type": "code",
      "execution_count": null,
      "metadata": {
        "id": "HRlxCcrvBN9S"
      },
      "outputs": [],
      "source": [
        "from sklearn.model_selection import GridSearchCV\n",
        "\n",
        "params = {'tfidf__stop_words':['english'],\n",
        "          'nb__n_neighbors':[1, 3, 5]}\n",
        "\n",
        "# Define GridSearchCV\n",
        "gridcv = GridSearchCV(pipeline, params,\n",
        "                      scoring='f1_macro', cv=3)\n",
        "\n",
        "# Fit and cross-validate the model on 3-fold data\n",
        "gridcv.fit(Xtrain, ytrain)"
      ]
    },
    {
      "cell_type": "code",
      "execution_count": null,
      "metadata": {
        "id": "cCd-8EFBBR5F"
      },
      "outputs": [],
      "source": [
        "gridcv.best_estimator_"
      ]
    },
    {
      "cell_type": "code",
      "execution_count": null,
      "metadata": {
        "id": "jv4yI-fYBSBM"
      },
      "outputs": [],
      "source": [
        "# Make predictions on the test set\n",
        "ypred = gridcv.predict(Xtest)\n",
        "\n",
        "# Report classification scores\n",
        "print(classification_report(ytest, ypred))"
      ]
    },
    {
      "cell_type": "markdown",
      "metadata": {
        "id": "wtcscwZPBRJ2"
      },
      "source": [
        "#### Exercise 2:\n",
        "\n",
        "1. Use grid search 5-fold cross-validation across different values of the following two kNN parameters: `n_neighbors` and `metric`  **on the training set** to find the best model.\n",
        "\n",
        "2. For the best value of `n_neighbors` and `metric` you found above, compute the `f1_macro` score **on the test set**.\n",
        "* Print the value of `n_neighbors` and `metric`.\n",
        "* Print the model's `f1_macro` score."
      ]
    },
    {
      "cell_type": "code",
      "execution_count": null,
      "metadata": {
        "id": "U97-Uu5-BTxj"
      },
      "outputs": [],
      "source": [
        "from sklearn.model_selection import GridSearchCV\n",
        "\n",
        "params2 = {\n",
        "    'tfidf__stop_words': ['english'],\n",
        "    'nb__n_neighbors': [1, 3, 5, 7, 9],\n",
        "    'nb__metric': ['euclidean', 'manhattan', 'minkowski']\n",
        "}\n",
        "\n",
        "# Define GridSearchCV\n",
        "gridcv2 = GridSearchCV(pipeline, params2, scoring='f1_macro', cv=5)\n",
        "\n",
        "# Fit the model on training data\n",
        "gridcv2.fit(Xtrain, ytrain)\n"
      ]
    },
    {
      "cell_type": "code",
      "source": [
        "gridcv2.best_estimator_"
      ],
      "metadata": {
        "id": "jpzhDcniCbXm"
      },
      "execution_count": null,
      "outputs": []
    },
    {
      "cell_type": "code",
      "source": [
        "# Make predictions on the test set\n",
        "ypred2 = gridcv2.predict(Xtest)\n",
        "\n",
        "# Report classification scores\n",
        "print(classification_report(ytest, ypred2))"
      ],
      "metadata": {
        "id": "CJ6jhdkvChud"
      },
      "execution_count": null,
      "outputs": []
    }
  ],
  "metadata": {
    "colab": {
      "provenance": [],
      "include_colab_link": true
    },
    "kernelspec": {
      "display_name": "Python 3 (ipykernel)",
      "language": "python",
      "name": "python3"
    },
    "language_info": {
      "codemirror_mode": {
        "name": "ipython",
        "version": 3
      },
      "file_extension": ".py",
      "mimetype": "text/x-python",
      "name": "python",
      "nbconvert_exporter": "python",
      "pygments_lexer": "ipython3",
      "version": "3.10.12"
    }
  },
  "nbformat": 4,
  "nbformat_minor": 0
}