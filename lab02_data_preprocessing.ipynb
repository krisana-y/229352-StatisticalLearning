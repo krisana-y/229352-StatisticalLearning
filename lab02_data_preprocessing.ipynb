{
  "cells": [
    {
      "cell_type": "markdown",
      "metadata": {
        "id": "view-in-github",
        "colab_type": "text"
      },
      "source": [
        "<a href=\"https://colab.research.google.com/github/krisana-y/229352-StatisticalLearning/blob/main/lab02_data_preprocessing.ipynb\" target=\"_parent\"><img src=\"https://colab.research.google.com/assets/colab-badge.svg\" alt=\"Open In Colab\"/></a>"
      ]
    },
    {
      "cell_type": "markdown",
      "metadata": {
        "id": "X33DsAOeokmy"
      },
      "source": [
        "### Statistical Learning for Data Science 2 (229352)\n",
        "#### Instructor: Donlapark Ponnoprat\n",
        "\n",
        "#### [Course website](https://donlapark.pages.dev/229352/)\n",
        "\n",
        "## Lab #2"
      ]
    },
    {
      "cell_type": "code",
      "source": [
        "import pandas as pd\n",
        "import numpy as np\n",
        "import matplotlib.pyplot as plt\n",
        "import seaborn as sns\n",
        "\n",
        "from sklearn.model_selection import train_test_split\n",
        "from sklearn.preprocessing import StandardScaler, OneHotEncoder, OrdinalEncoder\n",
        "from sklearn.impute import SimpleImputer\n",
        "from sklearn.linear_model import LogisticRegression\n",
        "from sklearn.metrics import classification_report, confusion_matrix, accuracy_score, roc_auc_score, roc_curve\n",
        "\n",
        "# For Fashion-MNIST\n",
        "from tensorflow.keras.datasets import fashion_mnist\n",
        "\n",
        "# For 20 Newsgroups\n",
        "from sklearn.datasets import fetch_20newsgroups\n",
        "from sklearn.feature_extraction.text import TfidfVectorizer\n",
        "\n",
        "pd.set_option('display.max_columns', None)\n",
        "pd.set_option('display.width', 1000)"
      ],
      "metadata": {
        "id": "JOnoRSjo8dd5"
      },
      "execution_count": 16,
      "outputs": []
    },
    {
      "cell_type": "markdown",
      "source": [
        "## Part 1: Marketing Campaign Dataset - Manual Data Preprocessing & Logistic Regression"
      ],
      "metadata": {
        "id": "exuopfRD8mHt"
      }
    },
    {
      "cell_type": "markdown",
      "source": [
        "### Load the Marketing Campaign Dataset ([Data Information](https://archive.ics.uci.edu/dataset/222/bank+marketing))\n",
        "\n",
        "The data is related with direct marketing campaigns of a Portuguese banking institution. The marketing campaigns were based on phone calls. Often, more than one contact to the same client was required, in order to access if the product (bank term deposit) would be (`'yes'`) or not (`'no'`) subscribed."
      ],
      "metadata": {
        "id": "FdWsJYcVBf1Q"
      }
    },
    {
      "cell_type": "code",
      "source": [
        "# URL for the raw Bank Marketing dataset CSV\n",
        "bank_url = 'https://raw.githubusercontent.com/donlap/ds352-labs/main/bank.csv'\n",
        "\n",
        "# Load the dataset\n",
        "# - sep=';' is crucial as it's semicolon-separated\n",
        "# - na_values=['unknown'] converts 'unknown' strings to NaN\n",
        "df = pd.read_csv(bank_url, sep=';', na_values=['unknown'])\n",
        "df = df.drop([\"emp.var.rate\", \"cons.price.idx\", \"cons.conf.idx\",\t\"euribor3m\", \"nr.employed\"], axis=1)\n",
        "print(\"Shape of the dataset:\", df.shape)\n",
        "df.head()"
      ],
      "metadata": {
        "id": "CJ9ujPUBBcTK",
        "colab": {
          "base_uri": "https://localhost:8080/",
          "height": 224
        },
        "outputId": "86e18754-9d2a-4e35-9af2-5083cd8d1c02"
      },
      "execution_count": 17,
      "outputs": [
        {
          "output_type": "stream",
          "name": "stdout",
          "text": [
            "Shape of the dataset: (41188, 16)\n"
          ]
        },
        {
          "output_type": "execute_result",
          "data": {
            "text/plain": [
              "   age        job  marital    education default housing loan    contact month day_of_week  duration  campaign  pdays  previous     poutcome   y\n",
              "0   56  housemaid  married     basic.4y      no      no   no  telephone   may         mon       261         1    999         0  nonexistent  no\n",
              "1   57   services  married  high.school     NaN      no   no  telephone   may         mon       149         1    999         0  nonexistent  no\n",
              "2   37   services  married  high.school      no     yes   no  telephone   may         mon       226         1    999         0  nonexistent  no\n",
              "3   40     admin.  married     basic.6y      no      no   no  telephone   may         mon       151         1    999         0  nonexistent  no\n",
              "4   56   services  married  high.school      no      no  yes  telephone   may         mon       307         1    999         0  nonexistent  no"
            ],
            "text/html": [
              "\n",
              "  <div id=\"df-16939a0b-1511-4894-a7b9-5c008cca4c6f\" class=\"colab-df-container\">\n",
              "    <div>\n",
              "<style scoped>\n",
              "    .dataframe tbody tr th:only-of-type {\n",
              "        vertical-align: middle;\n",
              "    }\n",
              "\n",
              "    .dataframe tbody tr th {\n",
              "        vertical-align: top;\n",
              "    }\n",
              "\n",
              "    .dataframe thead th {\n",
              "        text-align: right;\n",
              "    }\n",
              "</style>\n",
              "<table border=\"1\" class=\"dataframe\">\n",
              "  <thead>\n",
              "    <tr style=\"text-align: right;\">\n",
              "      <th></th>\n",
              "      <th>age</th>\n",
              "      <th>job</th>\n",
              "      <th>marital</th>\n",
              "      <th>education</th>\n",
              "      <th>default</th>\n",
              "      <th>housing</th>\n",
              "      <th>loan</th>\n",
              "      <th>contact</th>\n",
              "      <th>month</th>\n",
              "      <th>day_of_week</th>\n",
              "      <th>duration</th>\n",
              "      <th>campaign</th>\n",
              "      <th>pdays</th>\n",
              "      <th>previous</th>\n",
              "      <th>poutcome</th>\n",
              "      <th>y</th>\n",
              "    </tr>\n",
              "  </thead>\n",
              "  <tbody>\n",
              "    <tr>\n",
              "      <th>0</th>\n",
              "      <td>56</td>\n",
              "      <td>housemaid</td>\n",
              "      <td>married</td>\n",
              "      <td>basic.4y</td>\n",
              "      <td>no</td>\n",
              "      <td>no</td>\n",
              "      <td>no</td>\n",
              "      <td>telephone</td>\n",
              "      <td>may</td>\n",
              "      <td>mon</td>\n",
              "      <td>261</td>\n",
              "      <td>1</td>\n",
              "      <td>999</td>\n",
              "      <td>0</td>\n",
              "      <td>nonexistent</td>\n",
              "      <td>no</td>\n",
              "    </tr>\n",
              "    <tr>\n",
              "      <th>1</th>\n",
              "      <td>57</td>\n",
              "      <td>services</td>\n",
              "      <td>married</td>\n",
              "      <td>high.school</td>\n",
              "      <td>NaN</td>\n",
              "      <td>no</td>\n",
              "      <td>no</td>\n",
              "      <td>telephone</td>\n",
              "      <td>may</td>\n",
              "      <td>mon</td>\n",
              "      <td>149</td>\n",
              "      <td>1</td>\n",
              "      <td>999</td>\n",
              "      <td>0</td>\n",
              "      <td>nonexistent</td>\n",
              "      <td>no</td>\n",
              "    </tr>\n",
              "    <tr>\n",
              "      <th>2</th>\n",
              "      <td>37</td>\n",
              "      <td>services</td>\n",
              "      <td>married</td>\n",
              "      <td>high.school</td>\n",
              "      <td>no</td>\n",
              "      <td>yes</td>\n",
              "      <td>no</td>\n",
              "      <td>telephone</td>\n",
              "      <td>may</td>\n",
              "      <td>mon</td>\n",
              "      <td>226</td>\n",
              "      <td>1</td>\n",
              "      <td>999</td>\n",
              "      <td>0</td>\n",
              "      <td>nonexistent</td>\n",
              "      <td>no</td>\n",
              "    </tr>\n",
              "    <tr>\n",
              "      <th>3</th>\n",
              "      <td>40</td>\n",
              "      <td>admin.</td>\n",
              "      <td>married</td>\n",
              "      <td>basic.6y</td>\n",
              "      <td>no</td>\n",
              "      <td>no</td>\n",
              "      <td>no</td>\n",
              "      <td>telephone</td>\n",
              "      <td>may</td>\n",
              "      <td>mon</td>\n",
              "      <td>151</td>\n",
              "      <td>1</td>\n",
              "      <td>999</td>\n",
              "      <td>0</td>\n",
              "      <td>nonexistent</td>\n",
              "      <td>no</td>\n",
              "    </tr>\n",
              "    <tr>\n",
              "      <th>4</th>\n",
              "      <td>56</td>\n",
              "      <td>services</td>\n",
              "      <td>married</td>\n",
              "      <td>high.school</td>\n",
              "      <td>no</td>\n",
              "      <td>no</td>\n",
              "      <td>yes</td>\n",
              "      <td>telephone</td>\n",
              "      <td>may</td>\n",
              "      <td>mon</td>\n",
              "      <td>307</td>\n",
              "      <td>1</td>\n",
              "      <td>999</td>\n",
              "      <td>0</td>\n",
              "      <td>nonexistent</td>\n",
              "      <td>no</td>\n",
              "    </tr>\n",
              "  </tbody>\n",
              "</table>\n",
              "</div>\n",
              "    <div class=\"colab-df-buttons\">\n",
              "\n",
              "  <div class=\"colab-df-container\">\n",
              "    <button class=\"colab-df-convert\" onclick=\"convertToInteractive('df-16939a0b-1511-4894-a7b9-5c008cca4c6f')\"\n",
              "            title=\"Convert this dataframe to an interactive table.\"\n",
              "            style=\"display:none;\">\n",
              "\n",
              "  <svg xmlns=\"http://www.w3.org/2000/svg\" height=\"24px\" viewBox=\"0 -960 960 960\">\n",
              "    <path d=\"M120-120v-720h720v720H120Zm60-500h600v-160H180v160Zm220 220h160v-160H400v160Zm0 220h160v-160H400v160ZM180-400h160v-160H180v160Zm440 0h160v-160H620v160ZM180-180h160v-160H180v160Zm440 0h160v-160H620v160Z\"/>\n",
              "  </svg>\n",
              "    </button>\n",
              "\n",
              "  <style>\n",
              "    .colab-df-container {\n",
              "      display:flex;\n",
              "      gap: 12px;\n",
              "    }\n",
              "\n",
              "    .colab-df-convert {\n",
              "      background-color: #E8F0FE;\n",
              "      border: none;\n",
              "      border-radius: 50%;\n",
              "      cursor: pointer;\n",
              "      display: none;\n",
              "      fill: #1967D2;\n",
              "      height: 32px;\n",
              "      padding: 0 0 0 0;\n",
              "      width: 32px;\n",
              "    }\n",
              "\n",
              "    .colab-df-convert:hover {\n",
              "      background-color: #E2EBFA;\n",
              "      box-shadow: 0px 1px 2px rgba(60, 64, 67, 0.3), 0px 1px 3px 1px rgba(60, 64, 67, 0.15);\n",
              "      fill: #174EA6;\n",
              "    }\n",
              "\n",
              "    .colab-df-buttons div {\n",
              "      margin-bottom: 4px;\n",
              "    }\n",
              "\n",
              "    [theme=dark] .colab-df-convert {\n",
              "      background-color: #3B4455;\n",
              "      fill: #D2E3FC;\n",
              "    }\n",
              "\n",
              "    [theme=dark] .colab-df-convert:hover {\n",
              "      background-color: #434B5C;\n",
              "      box-shadow: 0px 1px 3px 1px rgba(0, 0, 0, 0.15);\n",
              "      filter: drop-shadow(0px 1px 2px rgba(0, 0, 0, 0.3));\n",
              "      fill: #FFFFFF;\n",
              "    }\n",
              "  </style>\n",
              "\n",
              "    <script>\n",
              "      const buttonEl =\n",
              "        document.querySelector('#df-16939a0b-1511-4894-a7b9-5c008cca4c6f button.colab-df-convert');\n",
              "      buttonEl.style.display =\n",
              "        google.colab.kernel.accessAllowed ? 'block' : 'none';\n",
              "\n",
              "      async function convertToInteractive(key) {\n",
              "        const element = document.querySelector('#df-16939a0b-1511-4894-a7b9-5c008cca4c6f');\n",
              "        const dataTable =\n",
              "          await google.colab.kernel.invokeFunction('convertToInteractive',\n",
              "                                                    [key], {});\n",
              "        if (!dataTable) return;\n",
              "\n",
              "        const docLinkHtml = 'Like what you see? Visit the ' +\n",
              "          '<a target=\"_blank\" href=https://colab.research.google.com/notebooks/data_table.ipynb>data table notebook</a>'\n",
              "          + ' to learn more about interactive tables.';\n",
              "        element.innerHTML = '';\n",
              "        dataTable['output_type'] = 'display_data';\n",
              "        await google.colab.output.renderOutput(dataTable, element);\n",
              "        const docLink = document.createElement('div');\n",
              "        docLink.innerHTML = docLinkHtml;\n",
              "        element.appendChild(docLink);\n",
              "      }\n",
              "    </script>\n",
              "  </div>\n",
              "\n",
              "\n",
              "    <div id=\"df-225c5cc7-106f-41ad-be69-ab4a9c18a837\">\n",
              "      <button class=\"colab-df-quickchart\" onclick=\"quickchart('df-225c5cc7-106f-41ad-be69-ab4a9c18a837')\"\n",
              "                title=\"Suggest charts\"\n",
              "                style=\"display:none;\">\n",
              "\n",
              "<svg xmlns=\"http://www.w3.org/2000/svg\" height=\"24px\"viewBox=\"0 0 24 24\"\n",
              "     width=\"24px\">\n",
              "    <g>\n",
              "        <path d=\"M19 3H5c-1.1 0-2 .9-2 2v14c0 1.1.9 2 2 2h14c1.1 0 2-.9 2-2V5c0-1.1-.9-2-2-2zM9 17H7v-7h2v7zm4 0h-2V7h2v10zm4 0h-2v-4h2v4z\"/>\n",
              "    </g>\n",
              "</svg>\n",
              "      </button>\n",
              "\n",
              "<style>\n",
              "  .colab-df-quickchart {\n",
              "      --bg-color: #E8F0FE;\n",
              "      --fill-color: #1967D2;\n",
              "      --hover-bg-color: #E2EBFA;\n",
              "      --hover-fill-color: #174EA6;\n",
              "      --disabled-fill-color: #AAA;\n",
              "      --disabled-bg-color: #DDD;\n",
              "  }\n",
              "\n",
              "  [theme=dark] .colab-df-quickchart {\n",
              "      --bg-color: #3B4455;\n",
              "      --fill-color: #D2E3FC;\n",
              "      --hover-bg-color: #434B5C;\n",
              "      --hover-fill-color: #FFFFFF;\n",
              "      --disabled-bg-color: #3B4455;\n",
              "      --disabled-fill-color: #666;\n",
              "  }\n",
              "\n",
              "  .colab-df-quickchart {\n",
              "    background-color: var(--bg-color);\n",
              "    border: none;\n",
              "    border-radius: 50%;\n",
              "    cursor: pointer;\n",
              "    display: none;\n",
              "    fill: var(--fill-color);\n",
              "    height: 32px;\n",
              "    padding: 0;\n",
              "    width: 32px;\n",
              "  }\n",
              "\n",
              "  .colab-df-quickchart:hover {\n",
              "    background-color: var(--hover-bg-color);\n",
              "    box-shadow: 0 1px 2px rgba(60, 64, 67, 0.3), 0 1px 3px 1px rgba(60, 64, 67, 0.15);\n",
              "    fill: var(--button-hover-fill-color);\n",
              "  }\n",
              "\n",
              "  .colab-df-quickchart-complete:disabled,\n",
              "  .colab-df-quickchart-complete:disabled:hover {\n",
              "    background-color: var(--disabled-bg-color);\n",
              "    fill: var(--disabled-fill-color);\n",
              "    box-shadow: none;\n",
              "  }\n",
              "\n",
              "  .colab-df-spinner {\n",
              "    border: 2px solid var(--fill-color);\n",
              "    border-color: transparent;\n",
              "    border-bottom-color: var(--fill-color);\n",
              "    animation:\n",
              "      spin 1s steps(1) infinite;\n",
              "  }\n",
              "\n",
              "  @keyframes spin {\n",
              "    0% {\n",
              "      border-color: transparent;\n",
              "      border-bottom-color: var(--fill-color);\n",
              "      border-left-color: var(--fill-color);\n",
              "    }\n",
              "    20% {\n",
              "      border-color: transparent;\n",
              "      border-left-color: var(--fill-color);\n",
              "      border-top-color: var(--fill-color);\n",
              "    }\n",
              "    30% {\n",
              "      border-color: transparent;\n",
              "      border-left-color: var(--fill-color);\n",
              "      border-top-color: var(--fill-color);\n",
              "      border-right-color: var(--fill-color);\n",
              "    }\n",
              "    40% {\n",
              "      border-color: transparent;\n",
              "      border-right-color: var(--fill-color);\n",
              "      border-top-color: var(--fill-color);\n",
              "    }\n",
              "    60% {\n",
              "      border-color: transparent;\n",
              "      border-right-color: var(--fill-color);\n",
              "    }\n",
              "    80% {\n",
              "      border-color: transparent;\n",
              "      border-right-color: var(--fill-color);\n",
              "      border-bottom-color: var(--fill-color);\n",
              "    }\n",
              "    90% {\n",
              "      border-color: transparent;\n",
              "      border-bottom-color: var(--fill-color);\n",
              "    }\n",
              "  }\n",
              "</style>\n",
              "\n",
              "      <script>\n",
              "        async function quickchart(key) {\n",
              "          const quickchartButtonEl =\n",
              "            document.querySelector('#' + key + ' button');\n",
              "          quickchartButtonEl.disabled = true;  // To prevent multiple clicks.\n",
              "          quickchartButtonEl.classList.add('colab-df-spinner');\n",
              "          try {\n",
              "            const charts = await google.colab.kernel.invokeFunction(\n",
              "                'suggestCharts', [key], {});\n",
              "          } catch (error) {\n",
              "            console.error('Error during call to suggestCharts:', error);\n",
              "          }\n",
              "          quickchartButtonEl.classList.remove('colab-df-spinner');\n",
              "          quickchartButtonEl.classList.add('colab-df-quickchart-complete');\n",
              "        }\n",
              "        (() => {\n",
              "          let quickchartButtonEl =\n",
              "            document.querySelector('#df-225c5cc7-106f-41ad-be69-ab4a9c18a837 button');\n",
              "          quickchartButtonEl.style.display =\n",
              "            google.colab.kernel.accessAllowed ? 'block' : 'none';\n",
              "        })();\n",
              "      </script>\n",
              "    </div>\n",
              "\n",
              "    </div>\n",
              "  </div>\n"
            ],
            "application/vnd.google.colaboratory.intrinsic+json": {
              "type": "dataframe",
              "variable_name": "df",
              "summary": "{\n  \"name\": \"df\",\n  \"rows\": 41188,\n  \"fields\": [\n    {\n      \"column\": \"age\",\n      \"properties\": {\n        \"dtype\": \"number\",\n        \"std\": 10,\n        \"min\": 17,\n        \"max\": 98,\n        \"num_unique_values\": 78,\n        \"samples\": [\n          36,\n          56,\n          28\n        ],\n        \"semantic_type\": \"\",\n        \"description\": \"\"\n      }\n    },\n    {\n      \"column\": \"job\",\n      \"properties\": {\n        \"dtype\": \"category\",\n        \"num_unique_values\": 11,\n        \"samples\": [\n          \"retired\",\n          \"housemaid\",\n          \"entrepreneur\"\n        ],\n        \"semantic_type\": \"\",\n        \"description\": \"\"\n      }\n    },\n    {\n      \"column\": \"marital\",\n      \"properties\": {\n        \"dtype\": \"category\",\n        \"num_unique_values\": 3,\n        \"samples\": [\n          \"married\",\n          \"single\",\n          \"divorced\"\n        ],\n        \"semantic_type\": \"\",\n        \"description\": \"\"\n      }\n    },\n    {\n      \"column\": \"education\",\n      \"properties\": {\n        \"dtype\": \"category\",\n        \"num_unique_values\": 7,\n        \"samples\": [\n          \"basic.4y\",\n          \"high.school\",\n          \"university.degree\"\n        ],\n        \"semantic_type\": \"\",\n        \"description\": \"\"\n      }\n    },\n    {\n      \"column\": \"default\",\n      \"properties\": {\n        \"dtype\": \"category\",\n        \"num_unique_values\": 2,\n        \"samples\": [\n          \"yes\",\n          \"no\"\n        ],\n        \"semantic_type\": \"\",\n        \"description\": \"\"\n      }\n    },\n    {\n      \"column\": \"housing\",\n      \"properties\": {\n        \"dtype\": \"category\",\n        \"num_unique_values\": 2,\n        \"samples\": [\n          \"yes\",\n          \"no\"\n        ],\n        \"semantic_type\": \"\",\n        \"description\": \"\"\n      }\n    },\n    {\n      \"column\": \"loan\",\n      \"properties\": {\n        \"dtype\": \"category\",\n        \"num_unique_values\": 2,\n        \"samples\": [\n          \"yes\",\n          \"no\"\n        ],\n        \"semantic_type\": \"\",\n        \"description\": \"\"\n      }\n    },\n    {\n      \"column\": \"contact\",\n      \"properties\": {\n        \"dtype\": \"category\",\n        \"num_unique_values\": 2,\n        \"samples\": [\n          \"cellular\",\n          \"telephone\"\n        ],\n        \"semantic_type\": \"\",\n        \"description\": \"\"\n      }\n    },\n    {\n      \"column\": \"month\",\n      \"properties\": {\n        \"dtype\": \"category\",\n        \"num_unique_values\": 10,\n        \"samples\": [\n          \"apr\",\n          \"jun\"\n        ],\n        \"semantic_type\": \"\",\n        \"description\": \"\"\n      }\n    },\n    {\n      \"column\": \"day_of_week\",\n      \"properties\": {\n        \"dtype\": \"category\",\n        \"num_unique_values\": 5,\n        \"samples\": [\n          \"tue\",\n          \"fri\"\n        ],\n        \"semantic_type\": \"\",\n        \"description\": \"\"\n      }\n    },\n    {\n      \"column\": \"duration\",\n      \"properties\": {\n        \"dtype\": \"number\",\n        \"std\": 259,\n        \"min\": 0,\n        \"max\": 4918,\n        \"num_unique_values\": 1544,\n        \"samples\": [\n          1805,\n          335\n        ],\n        \"semantic_type\": \"\",\n        \"description\": \"\"\n      }\n    },\n    {\n      \"column\": \"campaign\",\n      \"properties\": {\n        \"dtype\": \"number\",\n        \"std\": 2,\n        \"min\": 1,\n        \"max\": 56,\n        \"num_unique_values\": 42,\n        \"samples\": [\n          35,\n          19\n        ],\n        \"semantic_type\": \"\",\n        \"description\": \"\"\n      }\n    },\n    {\n      \"column\": \"pdays\",\n      \"properties\": {\n        \"dtype\": \"number\",\n        \"std\": 186,\n        \"min\": 0,\n        \"max\": 999,\n        \"num_unique_values\": 27,\n        \"samples\": [\n          7,\n          12\n        ],\n        \"semantic_type\": \"\",\n        \"description\": \"\"\n      }\n    },\n    {\n      \"column\": \"previous\",\n      \"properties\": {\n        \"dtype\": \"number\",\n        \"std\": 0,\n        \"min\": 0,\n        \"max\": 7,\n        \"num_unique_values\": 8,\n        \"samples\": [\n          1,\n          5\n        ],\n        \"semantic_type\": \"\",\n        \"description\": \"\"\n      }\n    },\n    {\n      \"column\": \"poutcome\",\n      \"properties\": {\n        \"dtype\": \"category\",\n        \"num_unique_values\": 3,\n        \"samples\": [\n          \"nonexistent\",\n          \"failure\"\n        ],\n        \"semantic_type\": \"\",\n        \"description\": \"\"\n      }\n    },\n    {\n      \"column\": \"y\",\n      \"properties\": {\n        \"dtype\": \"category\",\n        \"num_unique_values\": 2,\n        \"samples\": [\n          \"yes\",\n          \"no\"\n        ],\n        \"semantic_type\": \"\",\n        \"description\": \"\"\n      }\n    }\n  ]\n}"
            }
          },
          "metadata": {},
          "execution_count": 17
        }
      ]
    },
    {
      "cell_type": "markdown",
      "source": [
        "### Data Exploration"
      ],
      "metadata": {
        "id": "x4invEyyBRDI"
      }
    },
    {
      "cell_type": "code",
      "source": [
        "# Check for missing values\n",
        "print(\"--- Missing Values Count ---\")\n",
        "print(df.isnull().sum())"
      ],
      "metadata": {
        "id": "u6wANpgzBQoK",
        "colab": {
          "base_uri": "https://localhost:8080/"
        },
        "outputId": "50c942ab-d9de-40fd-d19e-5b847e74d5da"
      },
      "execution_count": 18,
      "outputs": [
        {
          "output_type": "stream",
          "name": "stdout",
          "text": [
            "--- Missing Values Count ---\n",
            "age               0\n",
            "job             330\n",
            "marital          80\n",
            "education      1731\n",
            "default        8597\n",
            "housing         990\n",
            "loan            990\n",
            "contact           0\n",
            "month             0\n",
            "day_of_week       0\n",
            "duration          0\n",
            "campaign          0\n",
            "pdays             0\n",
            "previous          0\n",
            "poutcome          0\n",
            "y                 0\n",
            "dtype: int64\n"
          ]
        }
      ]
    },
    {
      "cell_type": "code",
      "source": [
        "# Check unique values and counts for categorical columns\n",
        "print(\"--- Unique Values for Categorical Columns ---\")\n",
        "for col in df.select_dtypes(include='object').columns:\n",
        "    print(f\"\\n'{col}' unique values:\")\n",
        "    print(df[col].value_counts(dropna=False)) # Include NaN counts"
      ],
      "metadata": {
        "id": "1ack00iLnuCy",
        "colab": {
          "base_uri": "https://localhost:8080/"
        },
        "outputId": "97d6d780-999d-49de-e219-2a773db683ed"
      },
      "execution_count": 19,
      "outputs": [
        {
          "output_type": "stream",
          "name": "stdout",
          "text": [
            "--- Unique Values for Categorical Columns ---\n",
            "\n",
            "'job' unique values:\n",
            "job\n",
            "admin.           10422\n",
            "blue-collar       9254\n",
            "technician        6743\n",
            "services          3969\n",
            "management        2924\n",
            "retired           1720\n",
            "entrepreneur      1456\n",
            "self-employed     1421\n",
            "housemaid         1060\n",
            "unemployed        1014\n",
            "student            875\n",
            "NaN                330\n",
            "Name: count, dtype: int64\n",
            "\n",
            "'marital' unique values:\n",
            "marital\n",
            "married     24928\n",
            "single      11568\n",
            "divorced     4612\n",
            "NaN            80\n",
            "Name: count, dtype: int64\n",
            "\n",
            "'education' unique values:\n",
            "education\n",
            "university.degree      12168\n",
            "high.school             9515\n",
            "basic.9y                6045\n",
            "professional.course     5243\n",
            "basic.4y                4176\n",
            "basic.6y                2292\n",
            "NaN                     1731\n",
            "illiterate                18\n",
            "Name: count, dtype: int64\n",
            "\n",
            "'default' unique values:\n",
            "default\n",
            "no     32588\n",
            "NaN     8597\n",
            "yes        3\n",
            "Name: count, dtype: int64\n",
            "\n",
            "'housing' unique values:\n",
            "housing\n",
            "yes    21576\n",
            "no     18622\n",
            "NaN      990\n",
            "Name: count, dtype: int64\n",
            "\n",
            "'loan' unique values:\n",
            "loan\n",
            "no     33950\n",
            "yes     6248\n",
            "NaN      990\n",
            "Name: count, dtype: int64\n",
            "\n",
            "'contact' unique values:\n",
            "contact\n",
            "cellular     26144\n",
            "telephone    15044\n",
            "Name: count, dtype: int64\n",
            "\n",
            "'month' unique values:\n",
            "month\n",
            "may    13769\n",
            "jul     7174\n",
            "aug     6178\n",
            "jun     5318\n",
            "nov     4101\n",
            "apr     2632\n",
            "oct      718\n",
            "sep      570\n",
            "mar      546\n",
            "dec      182\n",
            "Name: count, dtype: int64\n",
            "\n",
            "'day_of_week' unique values:\n",
            "day_of_week\n",
            "thu    8623\n",
            "mon    8514\n",
            "wed    8134\n",
            "tue    8090\n",
            "fri    7827\n",
            "Name: count, dtype: int64\n",
            "\n",
            "'poutcome' unique values:\n",
            "poutcome\n",
            "nonexistent    35563\n",
            "failure         4252\n",
            "success         1373\n",
            "Name: count, dtype: int64\n",
            "\n",
            "'y' unique values:\n",
            "y\n",
            "no     36548\n",
            "yes     4640\n",
            "Name: count, dtype: int64\n"
          ]
        }
      ]
    },
    {
      "cell_type": "markdown",
      "source": [
        "### Data Preprocessing"
      ],
      "metadata": {
        "id": "iCEtO_EWDTzC"
      }
    },
    {
      "cell_type": "code",
      "source": [
        "# Map target variable 'y' to 0 (no) and 1 (yes)\n",
        "df['y'] = df['y'].map({'yes':1,'no':0}) # Write your code here\n",
        "\n",
        "# Calculate class statistics\n",
        "print(df['y'].describe())\n",
        "\n",
        "# Drop 'duration' due to data leakage\n",
        "df = df.drop('duration', axis=1)\n",
        "\n",
        "# Define features (X) and target (y)\n",
        "y = df['y']\n",
        "X = df.drop('y', axis=1)\n",
        "\n",
        "# Split the data BEFORE any transformations\n",
        "X_train, X_test, y_train, y_test = train_test_split(X, y, test_size=0.3)\n",
        "\n",
        "# Print data shape\n",
        "print(X_train.shape,X_train.shape)\n",
        "\n"
      ],
      "metadata": {
        "id": "W2J1Prc_BXe7",
        "colab": {
          "base_uri": "https://localhost:8080/"
        },
        "outputId": "a3787fda-8a87-4b04-bc1a-54b3f4d8c7b7"
      },
      "execution_count": 20,
      "outputs": [
        {
          "output_type": "stream",
          "name": "stdout",
          "text": [
            "count    41188.000000\n",
            "mean         0.112654\n",
            "std          0.316173\n",
            "min          0.000000\n",
            "25%          0.000000\n",
            "50%          0.000000\n",
            "75%          0.000000\n",
            "max          1.000000\n",
            "Name: y, dtype: float64\n",
            "(28831, 14) (28831, 14)\n"
          ]
        }
      ]
    },
    {
      "cell_type": "markdown",
      "source": [
        "We will apply `StandardScaler()`, `OrdinalEncoder()`, and `OneHotEncoder()` on a few selected columns."
      ],
      "metadata": {
        "id": "yM_gRkNjGR53"
      }
    },
    {
      "cell_type": "markdown",
      "source": [
        "**1. Numerical Feature: `age` and `campaign` (Standard Scaling)**"
      ],
      "metadata": {
        "id": "r4sPr5qDGY65"
      }
    },
    {
      "cell_type": "code",
      "source": [
        "# Select the columns for demonstration\n",
        "num_cols_demo = ['age', 'campaign']\n",
        "\n",
        "# Initialize StandardScaler\n",
        "scaler = StandardScaler()\n",
        "\n",
        "# Fit the scaler ONLY on the training data\n",
        "scaler.fit(X_train[num_cols_demo])\n",
        "\n",
        "# Transform both training and test data\n",
        "X_train_scaled_demo = scaler.transform(X_train[num_cols_demo]) # Write your code here\n",
        "X_test_scaled_demo = scaler.transform(X_test[num_cols_demo]) # Write your code here"
      ],
      "metadata": {
        "id": "52ibTHHFDxSv"
      },
      "execution_count": 22,
      "outputs": []
    },
    {
      "cell_type": "markdown",
      "source": [
        "Let's take a look at the transformed `age` and `campaign` features and their statistics."
      ],
      "metadata": {
        "id": "YnT6pEq4LlZg"
      }
    },
    {
      "cell_type": "code",
      "source": [
        "print(\"\\nOriginal X_train 'age' and 'campaign' head:\")\n",
        "print(X_train[num_cols_demo].head())\n",
        "print(\"\\nScaled X_train 'age' and 'campaign' head:\")\n",
        "print(pd.DataFrame(X_train_scaled_demo, columns=num_cols_demo, index=X_train.index).head())\n",
        "\n",
        "print(\"\\nMean of scaled 'age' (train):\", X_train_scaled_demo[:, 0].mean())\n",
        "print(\"Std Dev of scaled 'campaign' (train):\", X_train_scaled_demo[:, 1].std())"
      ],
      "metadata": {
        "id": "7bfFm4InLiGH",
        "colab": {
          "base_uri": "https://localhost:8080/"
        },
        "outputId": "70fe8743-2150-4ecb-d661-85e3991421b9"
      },
      "execution_count": 23,
      "outputs": [
        {
          "output_type": "stream",
          "name": "stdout",
          "text": [
            "\n",
            "Original X_train 'age' and 'campaign' head:\n",
            "       age  campaign\n",
            "33441   28         1\n",
            "19807   36         1\n",
            "32480   29         3\n",
            "14608   56         2\n",
            "15295   49         1\n",
            "\n",
            "Scaled X_train 'age' and 'campaign' head:\n",
            "            age  campaign\n",
            "33441 -1.152017 -0.569245\n",
            "19807 -0.387902 -0.569245\n",
            "32480 -1.056502  0.156849\n",
            "14608  1.522386 -0.206198\n",
            "15295  0.853786 -0.569245\n",
            "\n",
            "Mean of scaled 'age' (train): -6.802046237376007e-17\n",
            "Std Dev of scaled 'campaign' (train): 1.0\n"
          ]
        }
      ]
    },
    {
      "cell_type": "markdown",
      "source": [
        "**2. Ordinal Feature: `education` (Ordinal Encoding with Imputation)**"
      ],
      "metadata": {
        "id": "8jQi5cJAGj_m"
      }
    },
    {
      "cell_type": "markdown",
      "source": [
        "- **Imputation**"
      ],
      "metadata": {
        "id": "2uyk1rA7K7_p"
      }
    },
    {
      "cell_type": "code",
      "source": [
        "# Select the column for demonstration\n",
        "ord_col_demo = ['education']\n",
        "\n",
        "# Step 1: Impute missing values using SimpleImputer (most frequent strategy)\n",
        "imputer_ord = SimpleImputer(strategy='most_frequent')\n",
        "\n",
        "# Fit imputer only on training data\n",
        "imputer_ord.fit(X_train[ord_col_demo])\n",
        "\n",
        "# Fit imputer only on training AND test data\n",
        "X_train_imputed_ord_demo = imputer_ord.transform(X_train[ord_col_demo]) # Write your code here\n",
        "X_test_imputed_ord_demo = imputer_ord.transform(X_test[ord_col_demo]) # Write your code here"
      ],
      "metadata": {
        "id": "A8RbFYHLIhju"
      },
      "execution_count": 24,
      "outputs": []
    },
    {
      "cell_type": "code",
      "source": [
        "X_train_imputed_ord_demo"
      ],
      "metadata": {
        "colab": {
          "base_uri": "https://localhost:8080/"
        },
        "id": "EtfVdfyp1LBz",
        "outputId": "0c91d7dd-9e22-43c0-aed8-b28762bc2677"
      },
      "execution_count": 25,
      "outputs": [
        {
          "output_type": "execute_result",
          "data": {
            "text/plain": [
              "array([['professional.course'],\n",
              "       ['professional.course'],\n",
              "       ['basic.9y'],\n",
              "       ...,\n",
              "       ['professional.course'],\n",
              "       ['university.degree'],\n",
              "       ['basic.9y']], dtype=object)"
            ]
          },
          "metadata": {},
          "execution_count": 25
        }
      ]
    },
    {
      "cell_type": "markdown",
      "source": [
        "- **Ordinal Encoding**"
      ],
      "metadata": {
        "id": "P9hDuDPyLGaA"
      }
    },
    {
      "cell_type": "code",
      "source": [
        "# Define the order for the 'education' ordinal feature\n",
        "education_categories = [\n",
        "    'illiterate', 'basic.4y', 'basic.6y', 'basic.9y', 'high.school',\n",
        "    'professional.course', 'university.degree', 'masters', 'doctorate'\n",
        "]"
      ],
      "metadata": {
        "id": "n7DMoQ6AGf8h"
      },
      "execution_count": 26,
      "outputs": []
    },
    {
      "cell_type": "code",
      "source": [
        "# Step 2: Initialize OrdinalEncoder with the predefined categories\n",
        "ordinal_encoder = OrdinalEncoder(categories=[education_categories])\n",
        "\n",
        "# Fit the encoder ONLY on the imputed training data\n",
        "ordinal_encoder.fit(X_train_imputed_ord_demo)\n",
        "\n",
        "# Transform both imputed training and test data\n",
        "X_train_ord_encoded_demo = ordinal_encoder.transform(X_train_imputed_ord_demo)\n",
        "X_test_ord_encoded_demo = ordinal_encoder.transform(X_test_imputed_ord_demo)"
      ],
      "metadata": {
        "id": "MjbM7wi8IfHn"
      },
      "execution_count": 27,
      "outputs": []
    },
    {
      "cell_type": "markdown",
      "source": [
        "Let's take a look at the imputed and ordinal-encoded `education`."
      ],
      "metadata": {
        "id": "tmYa8EfcOCcv"
      }
    },
    {
      "cell_type": "code",
      "source": [
        "print(\"\\nOriginal X_train 'education' head:\")\n",
        "print(X_train[ord_col_demo].iloc[20:25])\n",
        "print(\"\\nImputed X_train 'education' head (after imputer.transform):\")\n",
        "print(pd.DataFrame(X_train_imputed_ord_demo, columns=ord_col_demo, index=X_train.index).iloc[20:25])\n",
        "print(\"\\nOrdinal Encoded X_train 'education' head:\")\n",
        "print(pd.DataFrame(X_train_ord_encoded_demo, columns=ord_col_demo, index=X_train.index).iloc[20:25])"
      ],
      "metadata": {
        "id": "JrJoFy3-Ik1l",
        "colab": {
          "base_uri": "https://localhost:8080/"
        },
        "outputId": "4cb4296b-0813-43d5-cec1-b9b74ff77ae9"
      },
      "execution_count": 28,
      "outputs": [
        {
          "output_type": "stream",
          "name": "stdout",
          "text": [
            "\n",
            "Original X_train 'education' head:\n",
            "                 education\n",
            "9157              basic.4y\n",
            "14407             basic.9y\n",
            "37323    university.degree\n",
            "1022   professional.course\n",
            "9044   professional.course\n",
            "\n",
            "Imputed X_train 'education' head (after imputer.transform):\n",
            "                 education\n",
            "9157              basic.4y\n",
            "14407             basic.9y\n",
            "37323    university.degree\n",
            "1022   professional.course\n",
            "9044   professional.course\n",
            "\n",
            "Ordinal Encoded X_train 'education' head:\n",
            "       education\n",
            "9157         1.0\n",
            "14407        3.0\n",
            "37323        6.0\n",
            "1022         5.0\n",
            "9044         5.0\n"
          ]
        }
      ]
    },
    {
      "cell_type": "markdown",
      "source": [
        "**3. Nominal Feature: `job` (One-Hot Encoding with Imputation)**"
      ],
      "metadata": {
        "id": "GarEnu8iK1lX"
      }
    },
    {
      "cell_type": "markdown",
      "source": [
        "- **Imputation**"
      ],
      "metadata": {
        "id": "1eJSiEslLNi4"
      }
    },
    {
      "cell_type": "code",
      "source": [
        "# Select the column for demonstration\n",
        "nom_col_demo = ['job']\n",
        "\n",
        "# Step 1: Impute missing values using SimpleImputer (most frequent strategy)\n",
        "imputer_nom = SimpleImputer(strategy='most_frequent')\n",
        "imputer_nom.fit(X_train[nom_col_demo]) # Fit imputer only on training data\n",
        "\n",
        "X_train_imputed_nom_demo = imputer_nom.transform(X_train[nom_col_demo])\n",
        "X_test_imputed_nom_demo = imputer_nom.transform(X_test[nom_col_demo])"
      ],
      "metadata": {
        "id": "1OUbef1bJPUH"
      },
      "execution_count": 29,
      "outputs": []
    },
    {
      "cell_type": "markdown",
      "source": [
        "- **Nominal Encoding**"
      ],
      "metadata": {
        "id": "l7F_kim6TQ72"
      }
    },
    {
      "cell_type": "code",
      "source": [
        "# sparse_output=False ensures a dense NumPy array is returned, easier for viewing\n",
        "onehot_encoder = OneHotEncoder(handle_unknown='ignore', sparse_output=False)\n",
        "\n",
        "# Fit the encoder ONLY on the imputed training data\n",
        "onehot_encoder.fit(X_train_imputed_nom_demo)\n",
        "\n",
        "# Transform both imputed training and test data\n",
        "X_train_onehot_encoded_demo = onehot_encoder.transform(X_train_imputed_nom_demo)\n",
        "X_test_onehot_encoded_demo =  onehot_encoder.transform(X_test_imputed_nom_demo)"
      ],
      "metadata": {
        "id": "6kMCGjksLyrf"
      },
      "execution_count": 31,
      "outputs": []
    },
    {
      "cell_type": "code",
      "source": [
        "print(\"\\nOriginal X_train 'job' head:\")\n",
        "print(X_train[nom_col_demo].iloc[40:45])\n",
        "print(\"\\nImputed X_train 'job' head (after imputer.transform):\")\n",
        "print(pd.DataFrame(X_train_imputed_nom_demo, columns=nom_col_demo, index=X_train.index).iloc[40:45])\n",
        "print(\"\\nOne-Hot Encoded X_train 'job' shape:\", X_train_onehot_encoded_demo.shape)\n",
        "print(\"First 5 rows of One-Hot Encoded X_train 'job':\")\n",
        "print(pd.DataFrame(X_train_onehot_encoded_demo, columns=onehot_encoder.get_feature_names_out(nom_col_demo), index=X_train.index).iloc[40:45])"
      ],
      "metadata": {
        "id": "j1qIKIelM0yX",
        "colab": {
          "base_uri": "https://localhost:8080/"
        },
        "outputId": "31b22bbf-4c5e-47d9-e5b2-388b7613fa3d"
      },
      "execution_count": 32,
      "outputs": [
        {
          "output_type": "stream",
          "name": "stdout",
          "text": [
            "\n",
            "Original X_train 'job' head:\n",
            "                 job\n",
            "16804  self-employed\n",
            "37268    blue-collar\n",
            "22862     technician\n",
            "5305          admin.\n",
            "37057     unemployed\n",
            "\n",
            "Imputed X_train 'job' head (after imputer.transform):\n",
            "                 job\n",
            "16804  self-employed\n",
            "37268    blue-collar\n",
            "22862     technician\n",
            "5305          admin.\n",
            "37057     unemployed\n",
            "\n",
            "One-Hot Encoded X_train 'job' shape: (28831, 11)\n",
            "First 5 rows of One-Hot Encoded X_train 'job':\n",
            "       job_admin.  job_blue-collar  job_entrepreneur  job_housemaid  job_management  job_retired  job_self-employed  job_services  job_student  job_technician  job_unemployed\n",
            "16804         0.0              0.0               0.0            0.0             0.0          0.0                1.0           0.0          0.0             0.0             0.0\n",
            "37268         0.0              1.0               0.0            0.0             0.0          0.0                0.0           0.0          0.0             0.0             0.0\n",
            "22862         0.0              0.0               0.0            0.0             0.0          0.0                0.0           0.0          0.0             1.0             0.0\n",
            "5305          1.0              0.0               0.0            0.0             0.0          0.0                0.0           0.0          0.0             0.0             0.0\n",
            "37057         0.0              0.0               0.0            0.0             0.0          0.0                0.0           0.0          0.0             0.0             1.0\n"
          ]
        }
      ]
    },
    {
      "cell_type": "markdown",
      "source": [
        "### **Exercise 1: Apply All Preprocessing & Train Logistic Regression**\n",
        "\n",
        "Now, it's your turn to apply these preprocessing steps to *all* relevant columns and then train a Logistic Regression model.\n",
        "\n",
        "**Instructions:**\n",
        "\n",
        "1.  Look at the Variable Table in [this link](https://archive.ics.uci.edu/dataset/222/bank+marketing).\n",
        "2. Make lists for `numerical_features`, `ordinal_features`, and `nominal_features`.\n",
        "3. Preprocess the features. It is safer to make a copy of `X_train` using:\n",
        "   ```\n",
        "   X_train_copy = X_train.copy()\n",
        "   X_test_copy = X_test.copy()\n",
        "   ```\n",
        "   and preprocess `X_train_copy` instead.\n",
        "\n",
        "   **For nominal features, concat the one-hot encoded features using [`pd.concat(..., axis=1)`](https://pandas.pydata.org/docs/reference/api/pandas.concat.html) and drop the old nominal features from the dataframe.**\n",
        "4. Train Logistic Regression on the preprocessed `X_train_copy` and `y_train`.\n",
        "5. Evaluate the Model:\n",
        "    *   Make predictions on the preprocessed `X_test_copy`.\n",
        "    *   Print `classification_report` ([Documentation](https://scikit-learn.org/stable/modules/generated/sklearn.metrics.classification_report.html)). What are the accuracy, average precision, average recall, and average f1-score?\n"
      ],
      "metadata": {
        "id": "CllpFvNBNYWI"
      }
    },
    {
      "cell_type": "code",
      "source": [
        "# Make copies to avoid modifying the original DataFrames\n",
        "X_train_copy = X_train.copy()\n",
        "X_test_copy = X_test.copy()\n",
        "\n",
        "# Define feature lists based on the provided link and dataset columns\n",
        "numerical_features = ['age', 'campaign', 'pdays', 'previous']\n",
        "ordinal_features = ['education']\n",
        "nominal_features = ['job', 'marital', 'default', 'housing', 'loan', 'contact', 'month', 'day_of_week', 'poutcome']\n",
        "\n",
        "# Preprocessing\n",
        "# 1. Numerical Features (Standard Scaling)\n",
        "scaler = StandardScaler()\n",
        "X_train_copy[numerical_features] = scaler.fit_transform(X_train_copy[numerical_features])\n",
        "X_test_copy[numerical_features] = scaler.transform(X_test_copy[numerical_features])\n",
        "\n",
        "# 2. Ordinal Features (Imputation + Ordinal Encoding)\n",
        "imputer_ord = SimpleImputer(strategy='most_frequent')\n",
        "X_train_copy[ordinal_features] = imputer_ord.fit_transform(X_train_copy[ordinal_features])\n",
        "X_test_copy[ordinal_features] = imputer_ord.transform(X_test_copy[ordinal_features])\n",
        "\n",
        "education_categories = [\n",
        "    'illiterate', 'basic.4y', 'basic.6y', 'basic.9y', 'high.school',\n",
        "    'professional.course', 'university.degree', 'masters', 'doctorate'\n",
        "]\n",
        "ordinal_encoder = OrdinalEncoder(categories=[education_categories])\n",
        "X_train_copy[ordinal_features] = ordinal_encoder.fit_transform(X_train_copy[ordinal_features])\n",
        "X_test_copy[ordinal_features] = ordinal_encoder.transform(X_test_copy[ordinal_features])\n",
        "\n",
        "\n",
        "# 3. Nominal Features (Imputation + One-Hot Encoding)\n",
        "imputer_nom = SimpleImputer(strategy='most_frequent')\n",
        "X_train_copy[nominal_features] = imputer_nom.fit_transform(X_train_copy[nominal_features])\n",
        "X_test_copy[nominal_features] = imputer_nom.transform(X_test_copy[nominal_features])\n",
        "\n",
        "onehot_encoder = OneHotEncoder(handle_unknown='ignore', sparse_output=False) # Use sparse_output=False for dense array\n",
        "\n",
        "# Fit and transform on training data\n",
        "X_train_nominal_encoded = onehot_encoder.fit_transform(X_train_copy[nominal_features])\n",
        "X_test_nominal_encoded = onehot_encoder.transform(X_test_copy[nominal_features])\n",
        "\n",
        "# Create DataFrames from one-hot encoded arrays with appropriate column names\n",
        "X_train_nominal_encoded_df = pd.DataFrame(X_train_nominal_encoded, columns=onehot_encoder.get_feature_names_out(nominal_features), index=X_train_copy.index)\n",
        "X_test_nominal_encoded_df = pd.DataFrame(X_test_nominal_encoded, columns=onehot_encoder.get_feature_names_out(nominal_features), index=X_test_copy.index)\n",
        "\n",
        "\n",
        "# Concatenate the one-hot encoded features and drop the original nominal features\n",
        "X_train_copy = pd.concat([X_train_copy.drop(nominal_features, axis=1), X_train_nominal_encoded_df], axis=1)\n",
        "X_test_copy = pd.concat([X_test_copy.drop(nominal_features, axis=1), X_test_nominal_encoded_df], axis=1)\n",
        "\n",
        "\n",
        "# Ensure columns match between train and test after one-hot encoding (important if handle_unknown='ignore')\n",
        "# Add missing columns to test set and fill with 0\n",
        "missing_cols = set(X_train_copy.columns) - set(X_test_copy.columns)\n",
        "for c in missing_cols:\n",
        "    X_test_copy[c] = 0\n",
        "# Ensure the order of columns is the same\n",
        "X_test_copy = X_test_copy[X_train_copy.columns]\n",
        "\n",
        "\n",
        "print(\"\\nShape of preprocessed X_train_copy:\", X_train_copy.shape)\n",
        "print(\"Shape of preprocessed X_test_copy:\", X_test_copy.shape)\n",
        "\n",
        "# Train Logistic Regression Model\n",
        "log_reg = LogisticRegression(max_iter=1000) # Increased max_iter for convergence\n",
        "log_reg.fit(X_train_copy, y_train)\n",
        "\n",
        "# Evaluate the Model\n",
        "y_pred = log_reg.predict(X_test_copy)\n",
        "\n",
        "# Print classification report\n",
        "print(\"\\n--- Classification Report ---\")\n",
        "print(classification_report(y_test, y_pred))\n",
        "\n",
        "# Extract specific metrics from the report\n",
        "report = classification_report(y_test, y_pred, output_dict=True)\n",
        "accuracy = report['accuracy']\n",
        "# 'weighted avg' provides a metric considering the support (number of true instances for each label)\n",
        "average_precision = report['weighted avg']['precision']\n",
        "average_recall = report['weighted avg']['recall']\n",
        "average_f1_score = report['weighted avg']['f1-score']\n",
        "\n",
        "print(f\"\\nAccuracy: {accuracy:.4f}\")\n",
        "print(f\"Average Precision (weighted): {average_precision:.4f}\")\n",
        "print(f\"Average Recall (weighted): {average_recall:.4f}\")\n",
        "print(f\"Average F1-score (weighted): {average_f1_score:.4f}\")"
      ],
      "metadata": {
        "id": "xuI8hAlIRfDX",
        "colab": {
          "base_uri": "https://localhost:8080/"
        },
        "outputId": "720b8a58-a3f0-4897-c04a-b5f232c8560f"
      },
      "execution_count": 43,
      "outputs": [
        {
          "output_type": "stream",
          "name": "stdout",
          "text": [
            "\n",
            "Shape of preprocessed X_train_copy: (28831, 45)\n",
            "Shape of preprocessed X_test_copy: (12357, 45)\n",
            "\n",
            "--- Classification Report ---\n",
            "              precision    recall  f1-score   support\n",
            "\n",
            "           0       0.91      0.99      0.95     10992\n",
            "           1       0.65      0.19      0.29      1365\n",
            "\n",
            "    accuracy                           0.90     12357\n",
            "   macro avg       0.78      0.59      0.62     12357\n",
            "weighted avg       0.88      0.90      0.87     12357\n",
            "\n",
            "\n",
            "Accuracy: 0.8988\n",
            "Average Precision (weighted): 0.8783\n",
            "Average Recall (weighted): 0.8988\n",
            "Average F1-score (weighted): 0.8730\n"
          ]
        }
      ]
    },
    {
      "cell_type": "markdown",
      "source": [
        "## Part 2: Fashion-MNIST Dataset - Image Classification"
      ],
      "metadata": {
        "id": "m9qrm2DKRtgm"
      }
    },
    {
      "cell_type": "markdown",
      "source": [
        "### Load Fashion-MNIST Dataset\n",
        "\n",
        "The Fashion-MNIST dataset consists of 28x28 grayscale images of fashion items."
      ],
      "metadata": {
        "id": "kc8SZBvcS8_I"
      }
    },
    {
      "cell_type": "code",
      "source": [
        "# Load the dataset\n",
        "(fm_X_train, fm_y_train), (fm_X_test, fm_y_test) = fashion_mnist.load_data()\n",
        "\n",
        "print(f\"Fashion-MNIST Train data shape: {fm_X_train.shape}\")\n",
        "print(f\"Fashion-MNIST Train labels shape: {fm_y_train.shape}\")\n",
        "print(f\"Fashion-MNIST Test data shape: {fm_X_test.shape}\")\n",
        "print(f\"Fashion-MNIST Test labels shape: {fm_y_test.shape}\")"
      ],
      "metadata": {
        "id": "r0FQt8rlRgoI",
        "colab": {
          "base_uri": "https://localhost:8080/"
        },
        "outputId": "00b5dfec-8bf9-43c9-fa4f-1bac693d4609"
      },
      "execution_count": 33,
      "outputs": [
        {
          "output_type": "stream",
          "name": "stdout",
          "text": [
            "Downloading data from https://storage.googleapis.com/tensorflow/tf-keras-datasets/train-labels-idx1-ubyte.gz\n",
            "\u001b[1m29515/29515\u001b[0m \u001b[32m━━━━━━━━━━━━━━━━━━━━\u001b[0m\u001b[37m\u001b[0m \u001b[1m0s\u001b[0m 0us/step\n",
            "Downloading data from https://storage.googleapis.com/tensorflow/tf-keras-datasets/train-images-idx3-ubyte.gz\n",
            "\u001b[1m26421880/26421880\u001b[0m \u001b[32m━━━━━━━━━━━━━━━━━━━━\u001b[0m\u001b[37m\u001b[0m \u001b[1m0s\u001b[0m 0us/step\n",
            "Downloading data from https://storage.googleapis.com/tensorflow/tf-keras-datasets/t10k-labels-idx1-ubyte.gz\n",
            "\u001b[1m5148/5148\u001b[0m \u001b[32m━━━━━━━━━━━━━━━━━━━━\u001b[0m\u001b[37m\u001b[0m \u001b[1m0s\u001b[0m 0us/step\n",
            "Downloading data from https://storage.googleapis.com/tensorflow/tf-keras-datasets/t10k-images-idx3-ubyte.gz\n",
            "\u001b[1m4422102/4422102\u001b[0m \u001b[32m━━━━━━━━━━━━━━━━━━━━\u001b[0m\u001b[37m\u001b[0m \u001b[1m0s\u001b[0m 0us/step\n",
            "Fashion-MNIST Train data shape: (60000, 28, 28)\n",
            "Fashion-MNIST Train labels shape: (60000,)\n",
            "Fashion-MNIST Test data shape: (10000, 28, 28)\n",
            "Fashion-MNIST Test labels shape: (10000,)\n"
          ]
        }
      ]
    },
    {
      "cell_type": "code",
      "source": [
        "print(f\"First image {fm_X_train[0]}\")\n",
        "print(f\"First label {fm_y_train[0]}\")"
      ],
      "metadata": {
        "id": "LXJ9EmcIVVrh",
        "colab": {
          "base_uri": "https://localhost:8080/"
        },
        "outputId": "ef19aa55-4b79-4e48-9543-cdd665302af0"
      },
      "execution_count": 34,
      "outputs": [
        {
          "output_type": "stream",
          "name": "stdout",
          "text": [
            "First image [[  0   0   0   0   0   0   0   0   0   0   0   0   0   0   0   0   0   0\n",
            "    0   0   0   0   0   0   0   0   0   0]\n",
            " [  0   0   0   0   0   0   0   0   0   0   0   0   0   0   0   0   0   0\n",
            "    0   0   0   0   0   0   0   0   0   0]\n",
            " [  0   0   0   0   0   0   0   0   0   0   0   0   0   0   0   0   0   0\n",
            "    0   0   0   0   0   0   0   0   0   0]\n",
            " [  0   0   0   0   0   0   0   0   0   0   0   0   1   0   0  13  73   0\n",
            "    0   1   4   0   0   0   0   1   1   0]\n",
            " [  0   0   0   0   0   0   0   0   0   0   0   0   3   0  36 136 127  62\n",
            "   54   0   0   0   1   3   4   0   0   3]\n",
            " [  0   0   0   0   0   0   0   0   0   0   0   0   6   0 102 204 176 134\n",
            "  144 123  23   0   0   0   0  12  10   0]\n",
            " [  0   0   0   0   0   0   0   0   0   0   0   0   0   0 155 236 207 178\n",
            "  107 156 161 109  64  23  77 130  72  15]\n",
            " [  0   0   0   0   0   0   0   0   0   0   0   1   0  69 207 223 218 216\n",
            "  216 163 127 121 122 146 141  88 172  66]\n",
            " [  0   0   0   0   0   0   0   0   0   1   1   1   0 200 232 232 233 229\n",
            "  223 223 215 213 164 127 123 196 229   0]\n",
            " [  0   0   0   0   0   0   0   0   0   0   0   0   0 183 225 216 223 228\n",
            "  235 227 224 222 224 221 223 245 173   0]\n",
            " [  0   0   0   0   0   0   0   0   0   0   0   0   0 193 228 218 213 198\n",
            "  180 212 210 211 213 223 220 243 202   0]\n",
            " [  0   0   0   0   0   0   0   0   0   1   3   0  12 219 220 212 218 192\n",
            "  169 227 208 218 224 212 226 197 209  52]\n",
            " [  0   0   0   0   0   0   0   0   0   0   6   0  99 244 222 220 218 203\n",
            "  198 221 215 213 222 220 245 119 167  56]\n",
            " [  0   0   0   0   0   0   0   0   0   4   0   0  55 236 228 230 228 240\n",
            "  232 213 218 223 234 217 217 209  92   0]\n",
            " [  0   0   1   4   6   7   2   0   0   0   0   0 237 226 217 223 222 219\n",
            "  222 221 216 223 229 215 218 255  77   0]\n",
            " [  0   3   0   0   0   0   0   0   0  62 145 204 228 207 213 221 218 208\n",
            "  211 218 224 223 219 215 224 244 159   0]\n",
            " [  0   0   0   0  18  44  82 107 189 228 220 222 217 226 200 205 211 230\n",
            "  224 234 176 188 250 248 233 238 215   0]\n",
            " [  0  57 187 208 224 221 224 208 204 214 208 209 200 159 245 193 206 223\n",
            "  255 255 221 234 221 211 220 232 246   0]\n",
            " [  3 202 228 224 221 211 211 214 205 205 205 220 240  80 150 255 229 221\n",
            "  188 154 191 210 204 209 222 228 225   0]\n",
            " [ 98 233 198 210 222 229 229 234 249 220 194 215 217 241  65  73 106 117\n",
            "  168 219 221 215 217 223 223 224 229  29]\n",
            " [ 75 204 212 204 193 205 211 225 216 185 197 206 198 213 240 195 227 245\n",
            "  239 223 218 212 209 222 220 221 230  67]\n",
            " [ 48 203 183 194 213 197 185 190 194 192 202 214 219 221 220 236 225 216\n",
            "  199 206 186 181 177 172 181 205 206 115]\n",
            " [  0 122 219 193 179 171 183 196 204 210 213 207 211 210 200 196 194 191\n",
            "  195 191 198 192 176 156 167 177 210  92]\n",
            " [  0   0  74 189 212 191 175 172 175 181 185 188 189 188 193 198 204 209\n",
            "  210 210 211 188 188 194 192 216 170   0]\n",
            " [  2   0   0   0  66 200 222 237 239 242 246 243 244 221 220 193 191 179\n",
            "  182 182 181 176 166 168  99  58   0   0]\n",
            " [  0   0   0   0   0   0   0  40  61  44  72  41  35   0   0   0   0   0\n",
            "    0   0   0   0   0   0   0   0   0   0]\n",
            " [  0   0   0   0   0   0   0   0   0   0   0   0   0   0   0   0   0   0\n",
            "    0   0   0   0   0   0   0   0   0   0]\n",
            " [  0   0   0   0   0   0   0   0   0   0   0   0   0   0   0   0   0   0\n",
            "    0   0   0   0   0   0   0   0   0   0]]\n",
            "First label 9\n"
          ]
        }
      ]
    },
    {
      "cell_type": "markdown",
      "source": [
        "### Visualize Fashion-MNIST Images\n",
        "\n",
        "Let's see what these images look like."
      ],
      "metadata": {
        "id": "WwkQOE79TV70"
      }
    },
    {
      "cell_type": "code",
      "source": [
        "# Define class names (for better understanding)\n",
        "fashion_mnist_class_names = [\n",
        "    'T-shirt/top', 'Trouser', 'Pullover', 'Dress', 'Coat',\n",
        "    'Sandal', 'Shirt', 'Sneaker', 'Bag', 'Ankle boot'\n",
        "]\n",
        "\n",
        "# Visualize the images\n",
        "fig, axes = plt.subplots(4, 4)\n",
        "for i, ax in enumerate(axes.flat):\n",
        "    ax.imshow(fm_X_train[i], cmap='gray')\n",
        "    ax.set_title(fashion_mnist_class_names[fm_y_train[i]])\n",
        "    ax.axis('off')"
      ],
      "metadata": {
        "id": "-YUI6IzbTGYh",
        "colab": {
          "base_uri": "https://localhost:8080/",
          "height": 428
        },
        "outputId": "4e40bb6f-4ee5-4da7-bcc5-c81790fa630c"
      },
      "execution_count": 37,
      "outputs": [
        {
          "output_type": "display_data",
          "data": {
            "text/plain": [
              "<Figure size 640x480 with 16 Axes>"
            ],
            "image/png": "[encoded data removed]"
          },
          "metadata": {}
        }
      ]
    },
    {
      "cell_type": "markdown",
      "source": [
        "### **Exercise 2: Preprocessing Images (Flatten and Scale)**\n",
        "\n",
        "Images are 2D arrays (matrices of pixels) and pixel values are integers from 0-255. For Logistic Regression, we need:\n",
        "*  **Flattening:** Convert each 28x28 image into a 1D array of 784 features.\n",
        "*  **Scaling:** Normalize pixel values from [0, 255] to [0, 1].\n",
        "\n",
        "**Instructions:**\n",
        "\n",
        "1.   **Flatten:** Use the `.reshape()` method (see [documentation](https://numpy.org/doc/stable/reference/generated/numpy.ndarray.reshape.html)). For `fm_X_train_binary` (shape `(num_samples, 28, 28)`), you want to reshape it to `(num_samples, 28*28)`.\n",
        "2.  **Scale:** Divide the flattened pixel values by 255.0 to get values between 0 and 1.\n",
        "3.   **Train Logistic Regression:**\n",
        "    *   Initialize `LogisticRegression(solver='saga')`. `saga` is a good solver when both number of samples and number of features are large.\n",
        "    *   Fit the model on your *processed* `fm_X_train_scaled` and `fm_y_train`.\n",
        "4.   **Make Predictions:** Use `predict()` to make predictions on the *processed* `fm_X_test_scaled`.\n",
        "5.   **Print Classification Report:** Print `classification_report` ([Documentation](https://scikit-learn.org/stable/modules/generated/sklearn.metrics.classification_report.html)). What are the accuracy, average precision, average recall, and average f1-score?\n",
        "6.   **Visualize Misclassifications:**\n",
        "    *   Find the indices in `fm_X_test_binary` where your model made incorrect predictions (i.e., `fm_y_pred != fm_y_test`).\n",
        "    *   Select 5 of these misclassified images.\n",
        "    *   Plot these images (using `plt.imshow`). For each image, print its true label and its predicted label."
      ],
      "metadata": {
        "id": "cXvJB42xVrHu"
      }
    },
    {
      "cell_type": "code",
      "source": [
        "# Flatten the images\n",
        "fm_X_train_binary = fm_X_train.reshape(fm_X_train.shape[0], 28 * 28)\n",
        "fm_X_test_binary = fm_X_test.reshape(fm_X_test.shape[0], 28 * 28)\n",
        "\n",
        "# Scale the pixel values\n",
        "fm_X_train_scaled = fm_X_train_binary / 255.0\n",
        "fm_X_test_scaled = fm_X_test_binary / 255.0\n",
        "\n",
        "print(f\"Flattened and scaled Train data shape: {fm_X_train_scaled.shape}\")\n",
        "print(f\"Flattened and scaled Test data shape: {fm_X_test_scaled.shape}\")\n",
        "print(f\"First scaled image values:\\n{fm_X_train_scaled[0][:10]}\") # Print first 10 values\n",
        "\n",
        "# Train Logistic Regression Model\n",
        "log_reg_fashion = LogisticRegression(solver='saga', max_iter=1000) # Added max_iter for convergence\n",
        "log_reg_fashion.fit(fm_X_train_scaled, fm_y_train)\n",
        "\n",
        "# Make Predictions\n",
        "fm_y_pred = log_reg_fashion.predict(fm_X_test_scaled)\n",
        "\n",
        "# Print Classification Report\n",
        "print(\"\\n--- Fashion-MNIST Classification Report ---\")\n",
        "print(classification_report(fm_y_test, fm_y_pred, target_names=fashion_mnist_class_names))\n",
        "\n",
        "# Visualize Misclassifications\n",
        "# Find indices of misclassified images\n",
        "misclassified_indices = np.where(fm_y_pred != fm_y_test)[0]\n",
        "\n",
        "# Select a few misclassified images (e.g., 5)\n",
        "num_misclassified_to_show = 5\n",
        "if len(misclassified_indices) > 0:\n",
        "    selected_misclassified_indices = np.random.choice(misclassified_indices, min(num_misclassified_to_show, len(misclassified_indices)), replace=False)\n",
        "\n",
        "    plt.figure(figsize=(10, 4))\n",
        "    for i, idx in enumerate(selected_misclassified_indices):\n",
        "        plt.subplot(1, num_misclassified_to_show, i + 1)\n",
        "        plt.imshow(fm_X_test[idx], cmap='gray')\n",
        "        true_label = fashion_mnist_class_names[fm_y_test[idx]]\n",
        "        predicted_label = fashion_mnist_class_names[fm_y_pred[idx]]\n",
        "        plt.title(f\"True: {true_label}\\nPred: {predicted_label}\")\n",
        "        plt.axis('off')\n",
        "    plt.tight_layout()\n",
        "    plt.show()\n",
        "else:\n",
        "    print(\"\\nNo misclassified images found to display.\")"
      ],
      "metadata": {
        "id": "P_Z7ooAgdLVf",
        "colab": {
          "base_uri": "https://localhost:8080/"
        },
        "outputId": "fdddf396-23e3-4280-e30f-68d1bf52683d"
      },
      "execution_count": null,
      "outputs": [
        {
          "output_type": "stream",
          "name": "stdout",
          "text": [
            "Flattened and scaled Train data shape: (60000, 784)\n",
            "Flattened and scaled Test data shape: (10000, 784)\n",
            "First scaled image values:\n",
            "[0. 0. 0. 0. 0. 0. 0. 0. 0. 0.]\n"
          ]
        }
      ]
    },
    {
      "cell_type": "markdown",
      "source": [
        "## Part 3: 20 Newsgroups Dataset - Text Classification"
      ],
      "metadata": {
        "id": "u7-q5FmnboVJ"
      }
    },
    {
      "cell_type": "markdown",
      "source": [
        "### Load 20 Newsgroups Dataset\n",
        "\n",
        "The 20 newsgroups dataset comprises around 18000 newsgroups posts on 20 topics."
      ],
      "metadata": {
        "id": "6TDncAyyb6mJ"
      }
    },
    {
      "cell_type": "code",
      "source": [
        "# Load the training and testing data\n",
        "news_train = fetch_20newsgroups(subset='train', shuffle=True, random_state=42)\n",
        "news_test = fetch_20newsgroups(subset='test', shuffle=True, random_state=42)\n",
        "\n",
        "X_train_news, y_train_news = news_train.data, news_train.target\n",
        "X_test_news, y_test_news = news_test.data, news_test.target\n",
        "\n",
        "print(f\"Number of training documents: {len(X_train_news)}\")\n",
        "print(f\"Number of test documents: {len(X_test_news)}\")\n",
        "print(f\"Categories: {news_train.target_names}\")"
      ],
      "metadata": {
        "id": "E91xZl5NbnpA",
        "colab": {
          "base_uri": "https://localhost:8080/"
        },
        "outputId": "d246a2f3-5436-47ea-cb62-4cfe9eccc4a3"
      },
      "execution_count": 39,
      "outputs": [
        {
          "output_type": "stream",
          "name": "stdout",
          "text": [
            "Number of training documents: 11314\n",
            "Number of test documents: 7532\n",
            "Categories: ['alt.atheism', 'comp.graphics', 'comp.os.ms-windows.misc', 'comp.sys.ibm.pc.hardware', 'comp.sys.mac.hardware', 'comp.windows.x', 'misc.forsale', 'rec.autos', 'rec.motorcycles', 'rec.sport.baseball', 'rec.sport.hockey', 'sci.crypt', 'sci.electronics', 'sci.med', 'sci.space', 'soc.religion.christian', 'talk.politics.guns', 'talk.politics.mideast', 'talk.politics.misc', 'talk.religion.misc']\n"
          ]
        }
      ]
    },
    {
      "cell_type": "markdown",
      "source": [
        "### Explore Sample Document"
      ],
      "metadata": {
        "id": "tVCq09V2cfGj"
      }
    },
    {
      "cell_type": "code",
      "source": [
        "# Print the first document and its class\n",
        "## Write your code here\n",
        "X_train_news[0]"
      ],
      "metadata": {
        "id": "G37RNZGebFZG",
        "colab": {
          "base_uri": "https://localhost:8080/",
          "height": 87
        },
        "outputId": "d5e4b3c9-731b-412a-d5ad-1b3f64cc0569"
      },
      "execution_count": 40,
      "outputs": [
        {
          "output_type": "execute_result",
          "data": {
            "text/plain": [
              "\"From: lerxst@wam.umd.edu (where's my thing)\\nSubject: WHAT car is this!?\\nNntp-Posting-Host: rac3.wam.umd.edu\\nOrganization: University of Maryland, College Park\\nLines: 15\\n\\n I was wondering if anyone out there could enlighten me on this car I saw\\nthe other day. It was a 2-door sports car, looked to be from the late 60s/\\nearly 70s. It was called a Bricklin. The doors were really small. In addition,\\nthe front bumper was separate from the rest of the body. This is \\nall I know. If anyone can tellme a model name, engine specs, years\\nof production, where this car is made, history, or whatever info you\\nhave on this funky looking car, please e-mail.\\n\\nThanks,\\n- IL\\n   ---- brought to you by your neighborhood Lerxst ----\\n\\n\\n\\n\\n\""
            ],
            "application/vnd.google.colaboratory.intrinsic+json": {
              "type": "string"
            }
          },
          "metadata": {},
          "execution_count": 40
        }
      ]
    },
    {
      "cell_type": "markdown",
      "source": [
        "### Preprocessing: Text Vectorization Demonstration with `TfidfVectorizer`"
      ],
      "metadata": {
        "id": "1vXXUdp7chsX"
      }
    },
    {
      "cell_type": "markdown",
      "source": [
        "$$\n",
        "\\text{TF-IDF}(t, d, D) = \\text{TF}(t, d) \\times \\text{IDF}(t, D)\n",
        "$$\n",
        "\n",
        "Where:\n",
        "\n",
        "$$\n",
        "\\text{TF}(t, d) = \\frac{\\text{number of word }t\\text{ in } d}{\\text{number of words in } d} \\quad \\text{ and } \\quad\n",
        "\\text{IDF}(t, D) = \\log\\left(\\frac{\\text{total number of documents}}{\\text{number of documents that contain word }t}\\right).\n",
        "$$"
      ],
      "metadata": {
        "id": "rwaq1igbi-Hp"
      }
    },
    {
      "cell_type": "code",
      "source": [
        "# Create a small list of sentences for demonstration\n",
        "sample_sentences = [\n",
        "    \"This is the first document.\",\n",
        "    \"This document is the second document.\",\n",
        "    \"And this is the third one.\",\n",
        "    \"Is this the first document?\"\n",
        "]\n",
        "\n",
        "# Initialize TfidfVectorizer for demonstration\n",
        "vectorizer = TfidfVectorizer(stop_words='english')\n",
        "\n",
        "# Fit and transform the sample sentences\n",
        "# The output `sample_vec_output` will be a sparse matrix\n",
        "sample_vec_output_sparse = vectorizer.fit_transform(sample_sentences)\n",
        "\n",
        "# Convert to a dense NumPy array for easier viewing\n",
        "sample_vec_output_dense = sample_vec_output_sparse.toarray()\n",
        "\n",
        "print(\"\\nVocabulary (word to index mapping):\")\n",
        "print(vectorizer.vocabulary_)\n",
        "\n",
        "print(\"\\nFeature names (words):\")\n",
        "print(vectorizer.get_feature_names_out())\n",
        "\n",
        "print(\"\\nTF-IDF matrix for sample sentences (dense format):\")\n",
        "print(sample_vec_output_dense)"
      ],
      "metadata": {
        "id": "8AaVd2D9ckKA",
        "colab": {
          "base_uri": "https://localhost:8080/"
        },
        "outputId": "efa532e7-2ca1-45f2-e07e-7b7bd51cce84"
      },
      "execution_count": 41,
      "outputs": [
        {
          "output_type": "stream",
          "name": "stdout",
          "text": [
            "\n",
            "Vocabulary (word to index mapping):\n",
            "{'document': 0, 'second': 1}\n",
            "\n",
            "Feature names (words):\n",
            "['document' 'second']\n",
            "\n",
            "TF-IDF matrix for sample sentences (dense format):\n",
            "[[1.         0.        ]\n",
            " [0.78722298 0.61666846]\n",
            " [0.         0.        ]\n",
            " [1.         0.        ]]\n"
          ]
        }
      ]
    },
    {
      "cell_type": "markdown",
      "source": [
        "### **Exercise 3: Apply TF-IDF Vectorization to Full Dataset**\n",
        "\n",
        "Now, apply `TfidfVectorizer` to the actual training and testing datasets for the 20 Newsgroups classification task.\n",
        "\n",
        "**Instructions:**\n",
        "\n",
        "1.  **Initialize `TfidfVectorizer`:**\n",
        "    *   Initialize `TfidfVectorizer`. Use `stop_words='english'` to remove common words.\n",
        "2.  **Fit and Transform Training Data:**\n",
        "    *   Call `fit_transform()` on `X_train_news` to learn the vocabulary and transform the training text into TF-IDF features. Store the result in `X_train_vec`.\n",
        "3.  **Transform Test Data:**\n",
        "    *   Call `transform()` on `X_test_news` using the *already fitted* vectorizer. Store the result in `X_test_vec`. **Crucially, do not call `fit_transform()` on the test data!** This would cause data leakage.\n",
        "4.  **Initialize Logistic Regression:**\n",
        "    *   Initialize `LogisticRegression(solver='saga')`. `saga` is a good solver when both number of samples and number of features are large.\n",
        "5.  **Train the Model:**\n",
        "    *   Fit the model on your `X_train_vec` and `y_train_news`.\n",
        "6.  **Make Predictions:**\n",
        "    *   Make predictions using `predict()` on the `X_test_vec`.\n",
        "7.  **Evaluate the Model:**\n",
        "    *   Print `classification_report` ([Documentation](https://scikit-learn.org/stable/modules/generated/sklearn.metrics.classification_report.html)). What are the accuracy, average precision, average recall, and average f1-score?"
      ],
      "metadata": {
        "id": "aCa_dcEDc-PQ"
      }
    },
    {
      "cell_type": "code",
      "source": [
        "# --- YOUR CODE FOR EXERCISE 3 STARTS HERE ---\n",
        "\n",
        "\n"
      ],
      "metadata": {
        "id": "B6g7y5yXrczq"
      },
      "execution_count": null,
      "outputs": []
    }
  ],
  "metadata": {
    "colab": {
      "provenance": [],
      "collapsed_sections": [
        "tVCq09V2cfGj"
      ],
      "include_colab_link": true
    },
    "kernelspec": {
      "display_name": "Python 3 (ipykernel)",
      "language": "python",
      "name": "python3"
    },
    "language_info": {
      "codemirror_mode": {
        "name": "ipython",
        "version": 3
      },
      "file_extension": ".py",
      "mimetype": "text/x-python",
      "name": "python",
      "nbconvert_exporter": "python",
      "pygments_lexer": "ipython3",
      "version": "3.10.12"
    }
  },
  "nbformat": 4,
  "nbformat_minor": 0
}